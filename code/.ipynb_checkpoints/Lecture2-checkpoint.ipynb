{
 "metadata": {
  "name": "",
  "signature": "sha256:b6c46c91b914444fa32aeb23d2f4e8c5b6f9e0ff925e666fa5067c1412bcd191"
 },
 "nbformat": 3,
 "nbformat_minor": 0,
 "worksheets": []
}