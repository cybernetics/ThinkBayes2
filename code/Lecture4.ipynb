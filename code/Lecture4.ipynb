{
 "metadata": {
  "name": "",
  "signature": "sha256:98b2095acd84df9ec8c5a68ec3f4705d44ab641e45234efc359d2cce3c01a213"
 },
 "nbformat": 3,
 "nbformat_minor": 0,
 "worksheets": [
  {
   "cells": [
    {
     "cell_type": "code",
     "collapsed": false,
     "input": [
      "from cookie3 import Cookie\n",
      "import thinkbayes2\n",
      "bowl1 = thinkbayes2.Hist(dict(vanilla=30, chocolate=10))\n",
      "bowl2 = thinkbayes2.Hist(dict(vanilla=20, chocolate=20))\n",
      "pmf = Cookie([bowl1, bowl2])\n",
      "\n",
      "for i in range(11):\n",
      "    pmf.Update(\"chocolate\")\n",
      "\n",
      "    for hypo, prob in pmf.Items():\n",
      "        print(hypo, prob)"
     ],
     "language": "python",
     "metadata": {},
     "outputs": [
      {
       "output_type": "stream",
       "stream": "stdout",
       "text": [
        "(Hist({'vanilla': 30, 'chocolate': 9}), 0.3333333333333333)\n",
        "(Hist({'vanilla': 20, 'chocolate': 19}), 0.6666666666666666)\n",
        "(Hist({'vanilla': 30, 'chocolate': 8}), 0.1914893617021277)\n",
        "(Hist({'vanilla': 20, 'chocolate': 18}), 0.8085106382978723)\n",
        "(Hist({'vanilla': 30, 'chocolate': 7}), 0.09523809523809526)\n",
        "(Hist({'vanilla': 20, 'chocolate': 17}), 0.9047619047619048)\n",
        "(Hist({'vanilla': 30, 'chocolate': 6}), 0.041543026706231466)\n",
        "(Hist({'vanilla': 20, 'chocolate': 16}), 0.9584569732937686)\n",
        "(Hist({'vanilla': 30, 'chocolate': 5}), 0.015993907083016)\n",
        "(Hist({'vanilla': 20, 'chocolate': 15}), 0.9840060929169839)\n",
        "(Hist({'vanilla': 30, 'chocolate': 4}), 0.0053887605850654365)\n",
        "(Hist({'vanilla': 20, 'chocolate': 14}), 0.9946112394149345)\n",
        "(Hist({'vanilla': 30, 'chocolate': 3}), 0.0015455950540958277)\n",
        "(Hist({'vanilla': 20, 'chocolate': 13}), 0.9984544049459043)\n",
        "(Hist({'vanilla': 30, 'chocolate': 2}), 0.0003571003451970005)\n",
        "(Hist({'vanilla': 20, 'chocolate': 12}), 0.999642899654803)\n",
        "(Hist({'vanilla': 30, 'chocolate': 1}), 5.953444067392988e-05)\n",
        "(Hist({'vanilla': 20, 'chocolate': 11}), 0.9999404655593259)\n",
        "(Hist({'vanilla': 30, 'chocolate': 0}), 5.412514816759313e-06)\n",
        "(Hist({'vanilla': 20, 'chocolate': 10}), 0.9999945874851832)\n",
        "(Hist({'vanilla': 30, 'chocolate': 0}), 0.0)\n",
        "(Hist({'vanilla': 20, 'chocolate': 9}), 0.9999999999999999)\n"
       ]
      }
     ],
     "prompt_number": 5
    },
    {
     "cell_type": "code",
     "collapsed": false,
     "input": [
      "import thinkbayes2\n",
      "class Turtle(thinkbayes2.Suite):\n",
      "    def Likelihood(self, data, hypo):\n",
      "        "
     ],
     "language": "python",
     "metadata": {},
     "outputs": [],
     "prompt_number": 6
    },
    {
     "cell_type": "code",
     "collapsed": false,
     "input": [],
     "language": "python",
     "metadata": {},
     "outputs": []
    }
   ],
   "metadata": {}
  }
 ]
}